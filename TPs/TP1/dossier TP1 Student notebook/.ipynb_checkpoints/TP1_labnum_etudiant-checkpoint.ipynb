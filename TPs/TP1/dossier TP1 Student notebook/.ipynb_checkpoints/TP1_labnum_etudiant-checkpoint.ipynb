{
 "cells": [
  {
   "cell_type": "markdown",
   "metadata": {},
   "source": [
    "<img\n",
    "src=\"https://www.imt-atlantique.fr/sites/default/files/Images/Ecole/charte-graphique/IMT_Atlantique_logo_RVB_Baseline_400x272.jpg\"\n",
    "WIDTH=200 HEIGHT=200>\n",
    "\n",
    "<CENTER>\n",
    "</br>\n",
    "<p><font size=\"10\">  Scientific Calculus and Applications (SCA) </font></p>\n",
    "<p><font size=\"10\">  Linear Systems</font></p>\n",
    "</p></br>\n",
    "</p>\n",
    "</CENTER>\n",
    "\n",
    "----------------------------\n",
    "# Numerical Méthods\n",
    "\n",
    "# TP n°1 : Resolution of linear algebraic systems\n",
    "    \n",
    "We consider the following electrical circuit, consisting of $n$ blocks, $n$ vary. \n",
    "\n",
    "Resistance values $k_1,...k_n$   and voltages $U_1,...,U_n$ are fixed.\n",
    "\n",
    "<img src=\"circuit.jpg\" width=\"600\" align=\"center\"/>\n",
    "\n",
    "Purpose: Determine the value of currents $I_1 , . . . , I_n$.\n",
    "\n",
    "Note: For this first TP, the skeletons of the expected python functions and scripts are given to you by this notebook, and you will only have to complete them in the places indicated by  \"... .\" or by \"to fill\". You are free to use it or not.\n",
    "\n",
    "# Questions\n",
    "\n",
    "## 1) Modelization\n",
    "\n",
    "Using the Kirchoff laws, model the problem in form of a linear algebraic system\n",
    "\n",
    "$$Ax = b.$$\n",
    "\n",
    "You will begin with mesh 1, then mesh 2, ...\n",
    "\n",
    "b contains the voltages\n",
    "\n",
    "x contains the intensities (which is unknown)\n",
    "\n",
    "NB: Ohm's law: U=RI\n",
    "<img src=\"fig_res.jpg\" width=\"200\" align=\"center\"/>"
   ]
  },
  {
   "cell_type": "markdown",
   "metadata": {},
   "source": [
    "Complete this cell (in latex) in order to present the linear algebric system\n",
    "A contains resistances and b the voltages\n",
    "x will be the currents to find.\n",
    "\n",
    "    *****        To fill       *****\n",
    "    or \n",
    "    ***** Write the result on sheet of paper and take a picture (joint it to your notebook)\n"
   ]
  },
  {
   "cell_type": "markdown",
   "metadata": {},
   "source": [
    "## 2) Initialization\n",
    "\n",
    "The first step is to initialize the number $n$ of voltages and resistance, the voltages in vector $u$ and the resistances' values in vector $k$ in python script.\n",
    "\n",
    "Create (or complete) the following script:\n",
    "    \n",
    "\n",
    "- The variable $n$ and initialize it to 10.\n",
    "\n",
    "- A vector $k$ containing the values of the resistances, which are fixed at $100Ω$ is build\n",
    "\n",
    "- A vector $u$ containing the voltage values, all set at $1V$ is build\n",
    "\n",
    "Then run it and check the initialization.\n",
    "\n",
    "NB: the function np.ones((m,n)) return an array size (m,n)) of ones.\n",
    " "
   ]
  },
  {
   "cell_type": "code",
   "execution_count": 109,
   "metadata": {},
   "outputs": [],
   "source": [
    "%matplotlib inline\n",
    "from pylab import *\n",
    "from matplotlib import pyplot\n",
    "import numpy as np\n",
    "import scipy as sp\n",
    "import scipy.linalg   # SciPy Linear Algebra Library\n",
    "\n",
    "# Initialization of the variables n, k and b\n",
    "# n: number of circuits\n",
    "n=10\n",
    "# k: resistor values (vector (n, 1))\n",
    "k=100.0*np.ones((n,1))\n",
    "# u: voltage values (vector (n, 1))\n",
    "b=1.0*np.ones((n,1))\n",
    "\n",
    "# Check the initialization"
   ]
  },
  {
   "cell_type": "markdown",
   "metadata": {},
   "source": [
    "## 3) Construction of the matrix\n",
    "\n",
    "- The following function \"matrice_circuit\" which takes as input the vector $k$ of resistances and returns the matrix $A$ of the linear system is initialized\n",
    "\n",
    "- Then run this function (in order to use it in the python script) and check the result.\n",
    "\n",
    "Warning: *you should not assume anything here about the values of the resistances (they could be different)*.\n",
    "\n",
    "NB: \n",
    "\n",
    "- the function np.zeross((m,n)) return an array (size (m,n)) of zeros.\n",
    "\n",
    "- A[i,j]=10 : initialize the $A_{i,j}$ to 10"
   ]
  },
  {
   "cell_type": "code",
   "execution_count": 110,
   "metadata": {},
   "outputs": [],
   "source": [
    "# function to initialize matrix A from the vector of resistance\n",
    "# according to the matrix defined in 1)\n",
    "# input: k, vector of resistors\n",
    "# output: matrix A\n",
    "            \n",
    "def matrice_circuit(k):\n",
    "    #  We recover the number of blocks with the size of the vector\n",
    "    n = size(k);\n",
    "    \n",
    "    # It is indicated that the matrix A will be of dimension nxn and one\n",
    "    # initialize it by putting 0 everywhere.\n",
    "    A = np.zeros((n,n));\n",
    "\n",
    "    # remplissage de la 1ère ligne\n",
    "    # à remplir\n",
    "\n",
    "    # remplissage de la derniere ligne\n",
    "    # à remplir\n",
    "\n",
    "    # Ensuite on exploite la récurrence à l'aide d'une boucle \"for\"\n",
    "    for i in range(1,n-1):\n",
    "        # à remplir\n",
    "    return(A)"
   ]
  },
  {
   "cell_type": "markdown",
   "metadata": {},
   "source": [
    "- Complete and run the following cell in order to display the previously defined matrix (check that it corresponds to what you expect)"
   ]
  },
  {
   "cell_type": "code",
   "execution_count": 5,
   "metadata": {},
   "outputs": [],
   "source": [
    "# calculation of matrix A\n",
    "A=matrice_circuit(k);\n",
    "###### to complete #####\n",
    "# display of matrix A\n",
    "print (A)\n"
   ]
  },
  {
   "cell_type": "markdown",
   "metadata": {},
   "source": [
    "In order to know the expected value of $x$, implement and test directly using the adequate python function. It could be useful in the next section.\n",
    "\n",
    "NB: \n",
    "\n",
    "- the function B=np.linalg.inv(A) inverts a matrix\n",
    "\n",
    "- the function C=np.matmul(A,B) gives the result C of the product between A and B\n",
    "\n",
    "\n",
    "you could also used \n",
    "\n",
    "- np.linalg.solve(a, b) give the solustion of ax=b"
   ]
  },
  {
   "cell_type": "code",
   "execution_count": null,
   "metadata": {},
   "outputs": [],
   "source": [
    "# Compute the result with \n",
    "\n",
    "##### to fill #####"
   ]
  },
  {
   "cell_type": "markdown",
   "metadata": {},
   "source": [
    "## 4) Gauss-Seidel method\n",
    "    \n",
    "    \n",
    "The Gauss-Seidel will be implemented in two steps (functions): iteration and you include it in the algorithm where a criterion of precision is applied (cf. lecture note). \n",
    "    \n",
    "- Create (or complete) the function-script gauss_seidel_iter which performs an iteration of the Gauss-Seidel method, ie computes $x(k+1)$  according to $A$, $b$  and $x (k)$."
   ]
  },
  {
   "cell_type": "code",
   "execution_count": 112,
   "metadata": {},
   "outputs": [],
   "source": [
    "# Iterate the Gauss-Seidel method\n",
    "# to solve Ax = b.\n",
    "# input: matrix A, vector b and x^{k} (current vector)\n",
    "# output: x^{k + 1}\n",
    "def gauss_seidel_iter(A,b,x):\n",
    "\n",
    "    n=size(b);\n",
    "    \n",
    "    ##### to fill  #####\n",
    "        \n",
    "\n",
    "    return(x)"
   ]
  },
  {
   "cell_type": "markdown",
   "metadata": {},
   "source": [
    "- Create (or complete) the gauss_seidel function script that resolves the $Ax = b$ system  by repeating the previous iteration until reaching a certain criterion of precision. The criterion that will be applied will be:\n",
    "    \n",
    "$$\\Vert x^{(k+1)} − x^{(k)}\\Vert_{\\infty} < \\epsilon,$$\n",
    "\n",
    "where $\\epsilon$  is a parameter of the function.\n",
    "\n",
    "The increment will be display at each iteration.\n",
    "\n",
    "NB:\n",
    "\n",
    "- the function np.subtract(a,b) gives the result of the substraction between two matrixes or vectors\n",
    "\n",
    "- the function np.linalg.norm(x, ord=None, axis=None, keepdims=False) gives matrix or vector norm.\n",
    "\n",
    "This function is able to return one of eight different matrix norms, or one of an infinite number of vector norms (described below), depending on the value of the ord parameter.\n",
    "\n",
    "Parameters:\t\n",
    " x : array_like\n",
    " ord : \n",
    "\n",
    "ord\t    norm for matrices\t         norm for vectors\n",
    "None\tFrobenius norm\t             2-norm\n",
    "‘fro’\tFrobenius norm\t             –\n",
    "‘nuc’\tnuclear norm                 –\n",
    "inf\t    max(sum(abs(x), axis=1))     max(abs(x))\n",
    "-inf\tmin(sum(abs(x), axis=1))     min(abs(x))\n",
    "0\t    –\tsum(x != 0)\n",
    "1\t    max(sum(abs(x), axis=0))\t as below\n",
    "-1\t    min(sum(abs(x), axis=0))\t as below\n",
    "2\t    2-norm (largest sing. value) as below\n",
    "-2\t    smallest singular value\t     as below\n",
    "\n"
   ]
  },
  {
   "cell_type": "code",
   "execution_count": 113,
   "metadata": {},
   "outputs": [],
   "source": [
    "# Applies the Gauss-Seidel iteration to solve\n",
    "# Ax = b until the increment is below epsilon.\n",
    "# Returns the last value of x found.\n",
    "def gauss_seidel(A,b,epsilon):\n",
    "    incr =10; # arbitrary value, just to be able to enter the loop\n",
    "    x = np.array(b, copy=True); # estimated arbitrary initial (we could also have taken 0)\n",
    "    print('x=',x)\n",
    "    \n",
    "    while incr > epsilon:\n",
    "        x_old = np.array(x, copy=True)  # save x before iteration\n",
    "       \n",
    "        ##### to fill  #####\n",
    "        \n",
    "        # print('c=',c)\n",
    "        incr = 0.; # to modify an complete\n",
    "        #useful functions to complete the previous line \n",
    "        #        np.max, np.absolute, np.subtract  \n",
    "        # increment (in infinite norm)\n",
    "\n",
    "        print('incr=',incr)\n",
    "        \n",
    "    return(x)"
   ]
  },
  {
   "cell_type": "markdown",
   "metadata": {},
   "source": [
    "## 5) Test\n",
    "- Now, you complete and run the following script in order to solve the linear system by calling your function gauss_seidel with $\\epsilon = 1e-08$.\n",
    "\n",
    "You should get the following values ​​for the intensities:\n",
    "\n",
    "    0.550000 0.540000 0.520000 0.490000 0.450000 \n",
    "    \n",
    "    0.400000 0.340000 0.270000 0.190000 0.100000\n",
    "\n"
   ]
  },
  {
   "cell_type": "code",
   "execution_count": null,
   "metadata": {},
   "outputs": [],
   "source": [
    "%matplotlib inline\n",
    "from pylab import *\n",
    "from matplotlib import pyplot\n",
    "import numpy as np\n",
    "import scipy as sp\n",
    "import scipy.linalg   # SciPy Linear Algebra Library\n",
    "\n",
    "# Initialization\n",
    "x=1.0*np.ones((n,1));\n",
    "# number of circuits \n",
    "n=10;\n",
    "# resistance values\n",
    "k=100.0*np.ones((n,1));\n",
    "# calculation of the vector b (values of the tensions)\n",
    "b=1.0*np.ones((n,1));\n",
    "\n",
    "# Initialization of A and b\n",
    "##### to fill #####\n",
    "\n",
    "# value for the stopping criterion (to be specified)\n",
    "epsilon = 1.0e-8;\n",
    "# call Gauss -Seidel function\n",
    "\n",
    "##### to fill #####\n",
    "\n",
    "\n",
    "print(x)"
   ]
  },
  {
   "cell_type": "markdown",
   "metadata": {},
   "source": [
    "## 6) Convergence Analysis\n",
    "\n",
    "In the question, you will observe the convergence.\n",
    "\n",
    "• Modify the Gauss-Seidel script so that it takes as input the vector $x^{(0)}$ and output the full suite of $e_k$ increments $e_k$ :\n",
    "    \n",
    "$$e_0 =∥x^{(1)} −x^{(0)}∥_\\infty, e_1 =∥x^{(2)} −x^{(1)}∥_\\infty,....$$\n",
    "\n",
    "Tip: to add an element $e_k$ to the $n$ of a vector $e$ whose size is not known initially, we can write: $e=[e\\quad [e_k]]$;\n",
    " "
   ]
  },
  {
   "cell_type": "code",
   "execution_count": 115,
   "metadata": {},
   "outputs": [],
   "source": [
    "# Calculation of the sequence of increments||x_{k}-x_{k-1}||\n",
    "def gauss_seidel_q6(A,b,x0,epsilon):\n",
    "    incr =10;\n",
    "    incr_vec =[];\n",
    "    \n",
    "    x = 1;##### to modify with initial value;#####\n",
    "    while (incr > epsilon):\n",
    "\n",
    "        x_old = np.array(x, copy=True); # backup of x before iteration \n",
    "        x = gauss_seidel_iter(A,b,x);\n",
    "        # compute the increment with infinity-norm\n",
    "        incr = 0 ;##### to modify #####\n",
    "        # complete the vector of the increment\n",
    "        incr_vec = np.append(incr_vec ,incr);\n",
    "    return (x,incr_vec)"
   ]
  },
  {
   "cell_type": "markdown",
   "metadata": {},
   "source": [
    "•  Display in a semi-logarithmic scale the graph of the function $k → e_k$. You must observe an asymptotic line. \n",
    "\n",
    "Note: Use the semilogx function."
   ]
  },
  {
   "cell_type": "code",
   "execution_count": 3,
   "metadata": {},
   "outputs": [
    {
     "data": {
      "image/png": "[encoded data removed]",
      "text/plain": [
       "<Figure size 432x288 with 1 Axes>"
      ]
     },
     "metadata": {
      "needs_background": "light"
     },
     "output_type": "display_data"
    }
   ],
   "source": [
    "import matplotlib.pyplot as plt\n",
    "\n",
    "# displays the convergence\n",
    "# we take x0 = b (arbitrary choice)\n",
    "# we apply Gauss-Seidel and we get the vectors of the increments\n",
    "[x,incr] = [(0,1),(1,1)]; ### to modifiy using the gauss_seidel_q6 function\n",
    "#print(incr)\n",
    "\n",
    "plt.semilogy(incr ,'r');\n",
    "#semilogy(incr,'LineWidth',2);\n",
    "plt.xlabel('#it');\n",
    "plt.ylabel('increment');\n",
    "\n",
    "# We obtain the following graph:"
   ]
  },
  {
   "cell_type": "markdown",
   "metadata": {},
   "source": [
    "- We know (see course) that the sequence $∥x(k) − x^∗∥$  behaves like a geometric sequence when $k → \\infty$. \n",
    "\n",
    "When the matrix is diagonalizable (which is the case here), we can even write\n",
    "\n",
    "$$ x(k) − x^∗ ∼\\lambda^kv $$\n",
    "\n",
    "for a particular value of $\\lambda$  and a particular vector $v$. We compute empirically the convergence rate\n",
    "$\\vert\\lambda\\vert$ of this sequence from an estimate of the slope of the asymptote.\n",
    "\n",
    "\n",
    "First, we observe that the sequence of increments also has for rate $\\vert\\lambda\\vert$ : \n",
    "\n",
    "$$\\begin{array}{cl}\n",
    "x(k+1)-x(k)&=&x(k+1)-x^∗-x(k)+x^∗\\\\\n",
    "&∼&\\lambda^{k+1}v-\\lambda^kv\\\\\n",
    "&=&\\lambda^kv′ \\quad\\mathrm{avec}\\quad v′=(1−\\lambda)v.\n",
    "\\end{array}$$\n",
    "\n",
    "\n",
    "So there is a constante $C$ such as\n",
    "\n",
    "$$e_k ∼\\lambda^kC$$\n",
    "\n",
    "So we have\n",
    "\n",
    "$$ log(e_k) ∼ k log(\\lambda) + log(C)$$\n",
    "    \n",
    "So the slope of the line gives us the logarithm of the convergence rate.\n",
    "\n",
    "Note: a more direct and more general demonstration will be given at the end of class 2."
   ]
  },
  {
   "cell_type": "code",
   "execution_count": 117,
   "metadata": {},
   "outputs": [
    {
     "name": "stdout",
     "output_type": "stream",
     "text": [
      "taux_observe =  0.9755282581625495\n"
     ]
    }
   ],
   "source": [
    "# Calculation of the empirical convergence rate\n",
    "# We see graphically that linear convergence is established\n",
    "# after about 100 iterations, we build the\n",
    "# right taking (for example) points at iterations 100% and 500.\n",
    "taux_observe=exp((log(incr[500])-log(incr[100]))/400)\n",
    "print('taux_observe = ',taux_observe)\n",
    "# Displayed value:\n",
    "# rate_observe = 0.97553\n",
    "\n",
    "                 \n",
    "                 "
   ]
  },
  {
   "cell_type": "markdown",
   "metadata": {},
   "source": [
    "- The theoretical convergence rate (using the course) is given. Compare the values ​​obtained. Note: Use the following predefined functions: eig, max and abs.\n"
   ]
  },
  {
   "cell_type": "code",
   "execution_count": 118,
   "metadata": {},
   "outputs": [
    {
     "name": "stdout",
     "output_type": "stream",
     "text": [
      "taux_theorique = 0.9755282581475779\n"
     ]
    }
   ],
   "source": [
    "#Construction of the P and N matrices of the Gauss-Seidel decomposition\n",
    "P=np.zeros((n,n)); \n",
    "N=np.zeros((n,n)); \n",
    "for i in range(0,n):\n",
    "    # the first part of the ith line goes into P\n",
    "    for j in range (0,i+1) :\n",
    "        P[i,j]=A[i,j];\n",
    "        \n",
    "    # the second part goes in N\n",
    "    for j in range(i+1,n):\n",
    "        N[i,j]=-A[i,j];\n",
    "\n",
    "# Obtaining the theoretical convergence rate\n",
    "taux_theorique=max(abs(np.linalg.eigvals(np.dot(np.linalg.inv(P),N))));\n",
    "\n",
    "#Value displayed: Theoretical_rate = 0.97553\n",
    "print('taux_theorique =',taux_theorique);\n",
    "        "
   ]
  },
  {
   "cell_type": "code",
   "execution_count": null,
   "metadata": {},
   "outputs": [],
   "source": []
  }
 ],
 "metadata": {
  "kernelspec": {
   "display_name": "Python 3 (ipykernel)",
   "language": "python",
   "name": "python3"
  },
  "language_info": {
   "codemirror_mode": {
    "name": "ipython",
    "version": 3
   },
   "file_extension": ".py",
   "mimetype": "text/x-python",
   "name": "python",
   "nbconvert_exporter": "python",
   "pygments_lexer": "ipython3",
   "version": "3.9.7"
  }
 },
 "nbformat": 4,
 "nbformat_minor": 2
}
