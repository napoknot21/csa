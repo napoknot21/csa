{
 "cells": [
  {
   "cell_type": "markdown",
   "metadata": {},
   "source": [
    "<img\n",
    "src=\"https://www.imt-atlantique.fr/sites/default/files/Images/Ecole/charte-graphique/IMT_Atlantique_logo_RVB_Baseline_400x272.jpg\"\n",
    "WIDTH=200 HEIGHT=200>\n",
    "\n",
    "<CENTER>\n",
    "</br>\n",
    "<p><font size=\"10\">  Scientific Calculus and Applications (SCA) </font></p>\n",
    "<p><font size=\"10\">  Linear Systems</font></p>\n",
    "</p></br>\n",
    "</p>\n",
    "</CENTER>\n",
    "\n",
    "----------------------------\n",
    "# Numerical Méthods\n",
    "\n",
    "# TP n°2 : Resolution of non-linear algebraic systems\n",
    "\n"
   ]
  },
  {
   "cell_type": "markdown",
   "metadata": {},
   "source": [
    "In order to control a poly-articulated robot of the type shown in Fig. 1, one of the problems of robotics is to calculate the joint coordinates ($\\theta_0$, $\\theta_1$, $\\theta_2$) that it is necessary to apply to the joints 1, 2 and 3 in order to control the position of the \"wrist\", assimilated here to a point $P$.\n",
    "\n",
    "\n",
    "\n",
    "<figure>\n",
    "<table><tr>\n",
    "<td> <img src=\"PUma560.jpg\" alt=\"Drawing\" style=\"width: 400px;\"/> </td>\n",
    "<td> <img src=\"robot1.jpg\" alt=\"Drawing\" style=\"width: <400px;\"/> </td>\n",
    "</tr></table>\n",
    "        <center>Fig. 1: PUMA robot & Diagram of the PUMA robot</center>\n",
    "</figure>\n",
    "\n",
    "\n",
    "\n",
    "\n",
    "\n",
    "Thanks to the geometric equation, it is possible to define the coordinates of the $P$ point from the angles\n",
    "$\\theta_i$ and lever arm using the following sytem.\n",
    "\n",
    "$$\t\\left\\lbrace \n",
    "\t\\begin{array}{l}\n",
    "\\cos{(\\theta_0)}\\left( h_1 \\cos{\\left(\\theta_1\\right)} − h_2 \\sin{\\left(\\theta_1 + \\theta_2\\right)}\\right) = x  \\\\ \n",
    "\\sin{(\\theta_0)}\\left( h_1 \\cos{\\left(\\theta_1\\right)} − h_2 \\sin{\\left(\\theta_1 + \\theta_2\\right)}\\right) = y  \\\\\n",
    "h_2 \\cos{(\\theta_1 +\\theta_2)}+h_1 \\sin{(\\theta_1)}  = z\n",
    "\t\\end{array} \n",
    "\t\\right.\\quad\\quad (1)$$\n",
    "\n",
    "Reminder: Our goal is to determine the angular coordinates $ (\\theta_0, \\theta_1, \\theta_2) $ of the robot\n",
    "which allow the point $P$ to reach a target $(x, y, z)$ and not to find $(x, y, z)$ from\n",
    "$ (\\theta_0, \\theta_1, \\theta_2) $.\n",
    "    \n",
    "For this, we must solve the following system of nonlinear equations:\n",
    "$${\\bf f}({\\bf \\theta})=0$$\n",
    "\n",
    "i.e.\n",
    "\n",
    "$$\t\\left\\lbrace \n",
    "\t\\begin{array}{l}\n",
    "\\cos{(\\theta_0)}\\left( h_1 \\cos{\\left(\\theta_1\\right)} − h_2 \\sin{\\left(\\theta_1 + \\theta_2\\right)}\\right) − x = 0 \\\\ \n",
    "\\sin{(\\theta_0)}\\left( h_1 \\cos{\\left(\\theta_1\\right)} − h_2 \\sin{\\left(\\theta_1 + \\theta_2\\right)}\\right) − y = 0 \\\\\n",
    "h_2 \\cos{(\\theta_1 +\\theta_2)}+h_1 \\sin{(\\theta_1)}−z = 0\n",
    "\t\\end{array} \n",
    "\t\\right. \\quad\\quad (2)$$\n",
    "     \n",
    "which amounts to seeking the solution of:\n",
    "$$f(\\theta)=\\left( \\begin{array}{c}\n",
    "0\\\\ \n",
    "0\\\\ \n",
    "0\n",
    "\\end{array} \\right)$$\n",
    "\n",
    "with $\\theta=\\left( \\begin{array}{c}\n",
    "\\theta_0\\\\ \n",
    "\\theta_1\\\\ \n",
    "\\theta_2\n",
    "\\end{array} \\right)$ et $h=\\left( \\begin{array}{c}\n",
    "h_0\\\\ \n",
    "h_1 \\\\\n",
    "h_2                                 \n",
    "\\end{array} \\right)$ where $h$ defines the lengths of the arms.\n",
    "    "
   ]
  },
  {
   "cell_type": "markdown",
   "metadata": {},
   "source": [
    "# Step 1: Resolution by Newton's Method\n",
    "\n",
    "To solve this system, we apply Newton's method.\n",
    "\n",
    "At each iteration, we have:\n",
    "\n",
    "$$\\theta^{(k+1)}=\\theta^{(k)}+\\delta_{\\theta}$$\n",
    "\n",
    "$\\delta_{\\theta}$ is obtained from the solution of:\n",
    "\n",
    "$$f(\\theta^{(k)})+J_f(\\theta^{(k)})\\cdot \\delta_\\theta =0$$\n",
    "\n",
    "Finally, at each iteration, the linear system produced by Newton's method will be solved using\n",
    "the LU decomposition provided by Python.\n",
    "\n",
    "Note: For your convenience, two functions are provided:\n",
    "- pos: function that returns the position $(x, y, z)$ of the wrist according to the angular coordinates. The function also takes as input the length of the arms (problem data).\n",
    "    \n",
    "- Jacobian: function that returns the Jacobian of the previous function."
   ]
  },
  {
   "cell_type": "markdown",
   "metadata": {},
   "source": [
    "## 1) Preparation\n",
    "\n",
    "\n",
    "Give a particular attention to the input-output of each script.\n",
    "(This part will be validated collectively by your supervisor).\n",
    "\n",
    "<div style='mso-element:para-border-div;border:solid windowtext 1.0pt;\n",
    "mso-border-alt:solid windowtext .5pt;padding:1.0pt 4.0pt 1.0pt 4.0pt ; background-color : #ffffE0'>\n",
    "\n",
    "<p class=MsoNormal style='border:none;mso-border-alt:solid windowtext .5pt;\n",
    "padding:0cm;mso-padding-alt:1.0pt 4.0pt 1.0pt 4.0pt'>\n",
    "<span class=GramE>\n",
    "Scripts qu'il va falloir créer (voir plus bas pour les interfaces) :<br />\n",
    "<ul>\n",
    "    <li> fvec : la fonction **f**  qui est donnée par l'équation (2)<br />\n",
    "        <ul>\n",
    "            f : Fonction que l'on cherche à annuler.<br />\n",
    "              Représente l'écart entre la position du poignet et la cible. <br />\n",
    "            <li>  Entrées : <ul> \n",
    "                    <li> $h$     = données du problème (longueur des bras) </li>\n",
    "                    <li> $\\theta$ = variables (angles articulations)</li>\n",
    "                    <li> $x_{cible}$ = position cible </li></ul></li>\n",
    "            <li> Sortie :   $f$     = écart entre la position calculée et la position cible</li>\n",
    "            <li> Fonction utilisée: $pos(.)$ qui calcule la position de la cible à partir de $\\theta$</li>\n",
    "        </ul></li>   \n",
    "    <li> newton_step : <br />\n",
    "        <ul>\n",
    "           <li>Fonction qui effectue un pas de la méthode de Newton $\\theta^{(k)} \\rightarrow \\theta^{(k+1)}$ ; <br />\n",
    "           Effectue un pas de l'itération de Newton</li>\n",
    "           <li> Entrée : <ul> \n",
    "                   <li>$\\theta$ = estimée courante ($\\theta^{(k)}$)</li>\n",
    "                   <li>   $h$ et $x_{cible}$ = données du problème</li></ul></li>\n",
    "           <li> Sortie : $\\theta_{next}$ = nouvelle estimée ($\\theta^{(k+1)}$) </li>  \n",
    "        </ul></li>\n",
    "    <li> newton : <br />\n",
    "        <ul>\n",
    "          fonction qui résout le problème pour une valeur initiale $\\theta^{(0)}$ et une cible $(x, y, z)$ ;  <br />\n",
    "          <li> Entrée : <ul> \n",
    "             <li> h et xcible</li></ul></li>\n",
    "          <li> Sortie :<ul> \n",
    "            <li> theta = angle estimé</li></ul></li>\n",
    "        </ul></li>\n",
    "    <li> tp2 : <br />\n",
    "        <ul>\n",
    "         script principal qui lance les tests et affichages.</ul></li>\n",
    "</ul>  \n",
    "    </span></p>\n",
    "\n",
    "</div>"
   ]
  },
  {
   "cell_type": "markdown",
   "metadata": {},
   "source": [
    "## 2) Implémentation\n",
    "\n",
    "Write the various scripts identified in Python.\n",
    "\n",
    "We will take as stopping criterion in Newton's method, a sufficiently small increment:\n",
    "\n",
    "$$∥\\theta^{(k+1)} − \\theta^{(k)}∥ \\leq \\varepsilon\\quad \\mathrm{avec}\\quad \\varepsilon \\triangleq 10^{−12}$$\n",
    "\n",
    "If possible, test the different scripts independently (or by \"layer\").\n",
    " \n",
    "Here some used python functions \n",
    "\n",
    "- P, L, U = scipy.linalg.lu(A)  computes a LU decomposition \n",
    " \n",
    "- np.transpose(P) computse the transpose of P\n",
    "\n",
    "-  C = np.dot(A),f) computes C=A*f;\n",
    "\n",
    "- np.subtract(x1, x2) computes the substraction between two array x1 and x2\n",
    "\n",
    "- scipy.linalg.norm(A) computes the norm L2 of a vector or the Froboeniuis norm of an array\n"
   ]
  },
  {
   "cell_type": "code",
   "execution_count": 3,
   "metadata": {},
   "outputs": [],
   "source": [
    "#matplotlib inline\n",
    "from pylab import *\n",
    "from matplotlib import pyplot\n",
    "import numpy as np\n",
    "import scipy as sp\n",
    "import scipy.linalg   # SciPy Linear Algebra Library\n",
    "\n",
    "\n",
    "# Wrist position in Cartesian coordinates\n",
    "# From a given theta computes the handle position\n",
    "# cf equation (1)\n",
    "# Inputs: h     = problem data (arm length)\n",
    "#         theta = variables (joint angles)\n",
    "# Output: f     = handle position (Cartesian coordinates)\n",
    "def pos(h,theta):\n",
    "    f=np.array([0.,0.,0.]);\n",
    "    f[0] = cos(theta[0])*(h[1]*cos(theta[1])-h[2]*sin(theta[1]+theta[2]));\n",
    "    f[1] = sin(theta[0])*(h[1]*cos(theta[1])-h[2]*sin(theta[1]+theta[2]));\n",
    "    f[2] = h[2]*cos(theta[1]+theta[2]) + h[1]*sin(theta[1]);\n",
    "    \n",
    "    return(f)\n",
    "\n",
    "\n",
    "# Jacobian of function fvec.\n",
    "# Inputs: h     = problem data (arm length)\n",
    "#         theta = variables (joint angles)\n",
    "# Output: J     = Jacobian of the previous function\n",
    "def jacobienne(h,theta): \n",
    "    J=np.zeros((3,3));\n",
    "\n",
    "    J[0,0]  = -sin(theta[0])*(h[2]*cos(theta[1])-h[2]*sin(theta[1]+theta[2]));\n",
    "    J[0,1] = cos(theta[0])*(-h[1]*sin(theta[1])-h[2]*cos(theta[1]+theta[2]));\n",
    "    J[0,2] = -h[2]*cos(theta[0])*cos(theta[1]+theta[2]);\n",
    "\n",
    "    J[1,0] = cos(theta[0])*(h[1]*cos(theta[1])-h[2]*sin(theta[1]+theta[2]));\n",
    "    J[1,1] = sin(theta[0])*(-h[1]*sin(theta[1])-h[2]*cos(theta[1]+theta[2]));\n",
    "    J[1,2] = sin(theta[0])*(-h[2]*cos(theta[1]+theta[2]));\n",
    "\n",
    "    J[2,0] = 0;\n",
    "    J[2,1] = -h[2]*sin(theta[1]+theta[2])+h[1]*cos(theta[1]);\n",
    "    J[2,2] = -h[2]*sin(theta[1]+theta[2]);\n",
    "    return (J)\n",
    "\n",
    "\n",
    "# Function that one seeks to cancel.\n",
    "# Define f(theta) (cf equation (2))\n",
    "# Represents the difference between the wrist position and the target.\n",
    "# Inputs: h        = problem data (arm length)\n",
    "#         theta    = variables (joint angles)\n",
    "#         xcible   = target position\n",
    "# Output: f        = difference between calculated position and target position\n",
    "def fvec(h,theta,xcible):\n",
    "    # initialization of f\n",
    "    f=np.array([0.,0.,0.]); \n",
    "    \n",
    "    # compute f(theta)\n",
    "    ##### to fill #####\n",
    "    \n",
    "    return(f)\n",
    "\n",
    "# Take one step of Newton's iteration\n",
    "# Entry:  theta        = current estimate (theta^(k))\n",
    "#         h and xcible = problem data\n",
    "# Output: thetanext    = estimated new (theta^(k+1))\n",
    "def newton_step(h,xcible,theta):\n",
    "    # initialization\n",
    "    y=np.array([0.,0.,0.]); \n",
    "    d_theta=np.array([0.,0.,0.]);\n",
    "\n",
    "    # on commence par évaluer la jacobienne\n",
    "    J=jacobienne(h,theta);\n",
    "    f=fvec(h,theta ,xcible); # Composantes du second membre (f(x))\n",
    "    \n",
    "    # Compute d_theta using the LU deomposition \n",
    "    P, L, U = scipy.linalg.lu(J); # utilisation de la decomposition LU de python (be careful with P)\n",
    "    # Python gives P.L.U=A\n",
    "    # We have A.theta=-f, P.L.U=-f but we solve L.U=P^{T}.(-f)\n",
    "    #   P transpose = P inverse\n",
    "    \n",
    "    # Résolution du système:\n",
    "    # firtly we need to invert the line of f considering matrix P\n",
    "    F2 = -np.dot(np.transpose(P),f) #F2=-P*f;\n",
    "    \n",
    "    # We need to inverse L.U.theta = F2 to find d_theta\n",
    "    # find the solution of the two systems Lz = b and then Ux=z\n",
    "    # to fill\n",
    "    \n",
    "    # incrémentation of d_theta\n",
    "    thetanext = theta + d_theta;        \n",
    "    \n",
    "    return(thetanext)\n",
    "    \n",
    "# Problem data: h and xcible\n",
    "# Output: theta = estimated angle\n",
    "def newton(h,xcible,theta0): \n",
    "\n",
    "    #initialization\n",
    "    theta = np.copy(theta0);\n",
    "       \n",
    "    # include a criteria in the loop\n",
    "    \n",
    "    ##### to fill #####\n",
    "        \n",
    "    return(theta)\n"
   ]
  },
  {
   "cell_type": "markdown",
   "metadata": {},
   "source": [
    "# 3) Test and Analysis\n",
    "\n",
    "In a  script (tp2), test your algorithm with the following data:\n",
    "\n",
    "$$h_0 =h_1 =h_2 =1$$\n",
    "    \n",
    "and for the following 3 cases:\n",
    "\n",
    "## a) Case 1:\n",
    "\n",
    "$x=0.2$, $y=0.3$ and $z=0.4$, from $\\theta^{(0)} = \\left( \\begin{array}{c}\n",
    "0\\\\ \n",
    "0\\\\ \n",
    "0\n",
    "\\end{array} \\right).$"
   ]
  },
  {
   "cell_type": "code",
   "execution_count": 4,
   "metadata": {},
   "outputs": [
    {
     "name": "stdout",
     "output_type": "stream",
     "text": [
      "We obtain the following solution : theta =  [0. 0. 0.]\n"
     ]
    }
   ],
   "source": [
    "%matplotlib inline\n",
    "from pylab import *\n",
    "from matplotlib import pyplot\n",
    "import numpy as np\n",
    "\n",
    "# arms length\n",
    "h=np.array([1.,1.,1.]);\n",
    "\n",
    "# target\n",
    "xcible =np.array([0.,0.,0.]);# to modify \n",
    "\n",
    "# Initialization\n",
    "theta0 =np.array([0.,0.,0.]);# to modify or not\n",
    "\n",
    "# solving from theta0:\n",
    "theta=newton(h,xcible ,theta0)\n",
    "\n",
    "# We obtain the following solution : \n",
    "print('We obtain the following solution : theta = ',theta)\n",
    "\n"
   ]
  },
  {
   "cell_type": "markdown",
   "metadata": {},
   "source": [
    "Compare your result with theta =  [ 0.98279372 -0.46095858  1.02555084] and indicate the distance (norm L2) between the x obtained and the target."
   ]
  },
  {
   "cell_type": "markdown",
   "metadata": {},
   "source": [
    "## b) Case 2: \n",
    "    \n",
    "Modify your code so that the program does not loop infinitely in case of non-convergence, by introducing a maximum number of iterations (for example, 100), then test it with the following target:\n",
    "\n",
    "$x=1$, $y=0$, and $z=−1$,\n",
    "    \n",
    "Firstly, from $\\theta^{(0)}\\triangleq  \\left( \\begin{array}{c}\n",
    "0\\\\ \n",
    "0\\\\ \n",
    "0\n",
    "\\end{array} \\right)$ then $\\theta^{(0)}\\triangleq \\left( \\begin{array}{c}\n",
    "0\\\\ \n",
    "0\\\\ \n",
    "3\n",
    "\\end{array} \\right)$. \n",
    "\n",
    "Find a simple way to compare the results obtained."
   ]
  },
  {
   "cell_type": "code",
   "execution_count": 6,
   "metadata": {},
   "outputs": [
    {
     "name": "stdout",
     "output_type": "stream",
     "text": [
      "residu=?\n",
      "residu=?\n"
     ]
    }
   ],
   "source": [
    "# Change the code: include a maximum number of iterations \n",
    "# Problem data: h and xcible\n",
    "# Returns: solution angles\n",
    "def newton_3b(h,xcible,theta0):\n",
    "    theta=theta0;\n",
    "    absdtheta =1;\n",
    "    nbre=0; # nombre d'iteration\n",
    "    \n",
    "    ##### to fill #####\n",
    "\n",
    "    return(theta)\n",
    "\n",
    "\n",
    "# target\n",
    "xcible =np.array([1,0, -1]);\n",
    "# thetha0  1:\n",
    "theta=newton_3b(h,xcible ,np.array([0,0,0]))\n",
    "# est-ce une solution ?\n",
    "##### to modify #####\n",
    "print('residu=?');\n",
    "# # thetha0  1:\n",
    "theta=newton_3b(h,xcible ,np.array([0,0,3]))\n",
    "##### to modify #####\n",
    "print('residu=?');"
   ]
  },
  {
   "cell_type": "markdown",
   "metadata": {},
   "source": [
    "We obtain the following ???, which show that the method did not converge in the first case:"
   ]
  },
  {
   "cell_type": "markdown",
   "metadata": {},
   "source": [
    "Case 1:\n",
    "\n",
    "    residue is equal to 2.2479223770068995\n",
    "\n",
    "Case 2: \n",
    "\n",
    "    residue is equal to 3.173215032376466e-15\n",
    "    \n",
    "What are your comments?\n"
   ]
  },
  {
   "cell_type": "markdown",
   "metadata": {},
   "source": [
    "## c) Case 3: \n",
    "        \n",
    "Finally, try to solve the following case:\n",
    "            \n",
    "$x=1.5$, $y=1$, and $z=1$.\n",
    "\n"
   ]
  },
  {
   "cell_type": "code",
   "execution_count": 8,
   "metadata": {},
   "outputs": [
    {
     "name": "stdout",
     "output_type": "stream",
     "text": [
      "??=\n"
     ]
    }
   ],
   "source": [
    "xcible =np.array([1.5,1, 1]);\n",
    "# résolution à partir de (0,0,0):\n",
    "theta=newton_3b(h,xcible ,np.array([0,1,3]))\n",
    "# est-ce une solution ?\n",
    "print('residue=');"
   ]
  },
  {
   "cell_type": "markdown",
   "metadata": {},
   "source": [
    "Comment the obtained result.\n",
    "\n"
   ]
  },
  {
   "cell_type": "markdown",
   "metadata": {},
   "source": [
    "# Step 2: Resolution by the fixed point method"
   ]
  },
  {
   "cell_type": "markdown",
   "metadata": {},
   "source": [
    "**a)** Repeat case 1 above and test the fixed-point method:\n",
    "    \n",
    "$$\\theta^{(k+1)}\\triangleq \\theta^{(k)} + f(\\theta^{(k)})$$\n",
    "\n",
    "starting from $\\theta^{(0)}\\triangleq \\left( \\begin{array}{c}\n",
    "0\\\\ \n",
    "0\\\\ \n",
    "0\n",
    "\\end{array} \\right)$ and using the same stopping criterion as for Newton.\n",
    "\n",
    "Complete the following script in order to use the fixed-point method."
   ]
  },
  {
   "cell_type": "code",
   "execution_count": 11,
   "metadata": {},
   "outputs": [
    {
     "name": "stdout",
     "output_type": "stream",
     "text": [
      "solution obtained with the fixed point :  [0 0 0]\n"
     ]
    }
   ],
   "source": [
    "xcible =np.array([0.2,0.3,0.4]);\n",
    "theta =np.array([0,0,0]);\n",
    "eps=1e-12;\n",
    "\n",
    "##### to fill #####\n",
    "\n",
    "print('solution obtained with the fixed point : ', theta);\n"
   ]
  },
  {
   "cell_type": "markdown",
   "metadata": {},
   "source": [
    " **b)** Check with Python that the conditions necessary for the convergence of the method\n",
    "     are actually respected (see course).\n",
    "    \n",
    "     Let\n",
    "\n",
    "$$g(\\theta) = \\theta + f(\\theta).$$\n",
    "\n",
    "According to the course, the jacobian's spectral radius of $g$ in $\\theta^*$ (the solution) must be smaller than\n",
    "1\n",
    "\n",
    "np.linalg.eig(B) donne les valeurs propres de B\n",
    "\n",
    "np.abs(C) donne le module de chaque composante de C\n",
    "\n"
   ]
  },
  {
   "cell_type": "code",
   "execution_count": 5,
   "metadata": {},
   "outputs": [
    {
     "ename": "SyntaxError",
     "evalue": "invalid syntax (<ipython-input-5-5aeebcf8b7c2>, line 6)",
     "output_type": "error",
     "traceback": [
      "\u001b[0;36m  File \u001b[0;32m\"<ipython-input-5-5aeebcf8b7c2>\"\u001b[0;36m, line \u001b[0;32m6\u001b[0m\n\u001b[0;31m    D,V=\u001b[0m\n\u001b[0m        ^\u001b[0m\n\u001b[0;31mSyntaxError\u001b[0m\u001b[0;31m:\u001b[0m invalid syntax\n"
     ]
    }
   ],
   "source": [
    "# We assume that theta is very close to the solution vector\n",
    "# Jacobian of theta function -> g (theta)\n",
    "A=eye(3);##### to modify####\n",
    "\n",
    "# Calcul du rayon spectral\n",
    "D,V=\n",
    "module=\n",
    "\n",
    "print('rayon spectral ',max(module))"
   ]
  },
  {
   "cell_type": "markdown",
   "metadata": {},
   "source": [
    "Comments the result obtained on the spectral radius"
   ]
  },
  {
   "cell_type": "markdown",
   "metadata": {},
   "source": [
    "# 5) Sensitivity Analysis\n",
    "\n",
    "We will finally study how the solution changes when parameters of the problem, the lengths\n",
    "$h_1$ and $h_2$, are \"disturbed\" (slightly modified).\n",
    "\n",
    "Be careful, $h_0$ and $(x, y, z)$ remain fixed parameters of the problem:\n",
    "    \n",
    "$$h_0 =1, x=0.2, y=0.3, z=0.4.$$\n",
    "\n",
    "The vector $ h = (h_1, h_2) $ becoming mathematically variables, the equation\n",
    "\n",
    "$$f(\\theta) = 0$$\n",
    "\n",
    "must now be written:\n",
    "\n",
    "\n",
    "$$f(\\theta,h) = 0$$\n",
    "\n",
    "Note the initial parameter set\n",
    "\n",
    "$h^{*}= \\left( \\begin{array}{c}\n",
    "1\\\\ \n",
    "1\n",
    "\\end{array} \\right)$\n",
    "\n",
    "and $\\theta^*$ the solution (obtained previously, by the method of Newton or the fixed point). So we have\n",
    "\n",
    "$$f(\\theta^*,h^*) = 0.$$\n",
    "\n",
    "For a perturbed vector $ h^* + \\delta h$, let $ θ^* + \\delta θ $ be the corresponding solution. We have again:\n",
    "\n",
    "$$f(θ^* +\\deltaθ,h^* +\\delta h)=0 \\quad \\quad(1)$$\n",
    "\n",
    "A development at order 1 of this equation then gives:\n",
    "\n",
    "$$ \\begin{array}{rcl}\n",
    "0 & = & f(\\theta^* + \\delta \\theta, h^* + \\delta h)\\\\\n",
    "& = & f(\\theta^*, h^*) + J_f (\\theta^*, h^*)(\\delta \\theta, \\delta h)\\\\\n",
    "& = & 0 + J_{f\\%\\theta}(\\theta^* ,h^* )\\delta \\theta + J_{f\\%h}(\\theta^* ,h^*)\\delta h\n",
    "\\end{array}\n",
    "$$\n",
    "\n",
    "\n",
    "\n",
    "où\n",
    "\n",
    "- $J_{f\\%\\theta}$ represents the Jacobian of f when h is considered constant (ie, that already\n",
    "previously calculated)\n",
    "- $J_{f\\%h}$ the Jacobian of f when θ is considered constant.\n",
    "\n",
    "a) Derive from equation (2) a so-called sensitivity formula that characterizes the way in which the solution\n",
    "deviates from the nominal solution $ θ^* $ according to the pertubation $\\delta h $."
   ]
  },
  {
   "cell_type": "markdown",
   "metadata": {},
   "source": [
    "$$\\delta\\theta \\sim −J_{f\\%θ}(θ^*,h^*)^{−1}J_{f\\%h}(\\delta^*,h^*)\\delta h$$"
   ]
  },
  {
   "cell_type": "markdown",
   "metadata": {},
   "source": [
    "b) Implement a function script calculating $J_{f\\%h}$"
   ]
  },
  {
   "cell_type": "code",
   "execution_count": 11,
   "metadata": {},
   "outputs": [],
   "source": [
    "# we enter h and theta in the form of vectors\n",
    "def jacobienne_h(h,theta):\n",
    "    J=np.zeros((3,2))\n",
    "    J[0,0] = cos(theta[0])*cos(theta[1]);\n",
    "    J[0,1] = -cos(theta[0])*sin(theta[1]+theta[2]);\n",
    "    \n",
    "    J[1,0] = sin(theta[0])*cos(theta[1]);\n",
    "    J[1,1] = -sin(theta[0])*sin(theta[1]+theta[2]);\n",
    "    \n",
    "    J[2,0] = sin(theta[1]);\n",
    "    J[2,1] = cos(theta[1]+theta[2]);\n",
    "    return (J)"
   ]
  },
  {
   "cell_type": "markdown",
   "metadata": {},
   "source": [
    " c) We generate a set of perturbation of the form:\n",
    "􏰍\n",
    "$$\\delta h= \\left( \\begin{array}{c}\n",
    "\\alpha\\\\ \n",
    "\\alpha\n",
    "\\end{array} \\right)$$\n",
    "\n",
    "where $ \\alpha $ is a discretization of $ [- 0.1,0.1] $ in steps of $ 10^{- 2} $. Make a graph where you will superimpose\n",
    "two curves representing the value of $ ∥ \\delta \\theta∥ $ according to $ \\alpha $:\n",
    "    \n",
    "1. one obtained by solving the problem disturbed (1)\n",
    "\n",
    "2. the other obtained via the sensitivity formula"
   ]
  },
  {
   "cell_type": "code",
   "execution_count": 12,
   "metadata": {
    "scrolled": true
   },
   "outputs": [
    {
     "data": {
      "image/png": "[encoded data removed]",
      "text/plain": [
       "<matplotlib.figure.Figure at 0x103ef9240>"
      ]
     },
     "metadata": {},
     "output_type": "display_data"
    }
   ],
   "source": [
    "#discretization of the h disturbance\n",
    "alpha = np.linspace(-0.1,0.1,201)\n",
    "\n",
    "n=np.size(alpha)\n",
    "\n",
    "# vector of observed discrepancies (solving the disturbed problem)\n",
    "dtheta_obs=np.zeros((n,1))\n",
    "# vector of estimated deviations (via sensitivity formula)\n",
    "dtheta_est=np.zeros((n,1));\n",
    "# sensitivity matrix\n",
    "S= # à compléter\n",
    "\n",
    "for i in range(0,n):\n",
    "    # calculation of the new solution\n",
    "    # (note: we start from the nominal solution)\n",
    "    # dtheta estimé à partir des observation de theta\n",
    "    new_theta = newton([1,1+alpha[i],1+alpha[i]],xcible,theta);\n",
    "    dtheta_obs[i]=0 # to modify\n",
    "    \n",
    "    a=[alpha[i],alpha[i]]\n",
    "    \n",
    "    # dtheta estimé à partir du jacobien et de \\delta_h\n",
    "    dtheta_est[i]=0 # to modify\n",
    "\n",
    "plot(alpha ,dtheta_obs ,'g',alpha ,dtheta_est ,'r');\n"
   ]
  },
  {
   "cell_type": "markdown",
   "metadata": {},
   "source": [
    "# 6) Basins of attraction (Subsidiary question)\n",
    "\n",
    "The purpose is to display an approximation of the basins of attraction of the fixed-point and Newton methods.\n",
    "via the predefined function contourf.\n",
    "\n",
    "To lighten the calculations, we will consider here that a point is in the bassin of a method\n",
    "if the application of an iteration from this point allows to get closer to the solution\n",
    "(be aware that this is not the current challenge).\n",
    " \n",
    "In addition, to produce a 2D display, we will only vary $ \\theta_1 $ and $ \\theta_2 $.\n",
    " \n",
    "Finally, to avoid introducing any additional bias in the distance calculation, we start with a solution\n",
    "known in advance:\n",
    "\n",
    "$$ \\theta^* \\triangleq \\left (\\begin{array} {c}\n",
    "\\pi / 3 \\\\\n",
    "- \\pi / 7 \\\\\n",
    "\\pi / 3\n",
    "\\end{array} \\right) $$\n",
    " \n",
    "\n",
    "a) Quickly study the contourf function.\n",
    "\n",
    "b) Calculate the target corresponding to the angular coordinates $ \\theta ^ * $ (this target will define the problem to be solved)."
   ]
  },
  {
   "cell_type": "code",
   "execution_count": 9,
   "metadata": {},
   "outputs": [],
   "source": [
    "h=np.array([1,1,1]);\n",
    "vtheta_sol=np.array([math.pi/3,-math.pi/7,math.pi/3]); # \"v\" for \"vector\" \n",
    "xcible=pos(h,vtheta_sol);"
   ]
  },
  {
   "cell_type": "markdown",
   "metadata": {},
   "source": [
    "c) Generate, for the contourf function, a discretization of the area\n",
    "\n",
    "$$ [\\theta_1^* -3, \\theta_1^* +3] \\times [\\theta_2 ^ * -3, \\theta_2 ^ * +3] $$\n",
    "\n",
    "  in steps of 0.05."
   ]
  },
  {
   "cell_type": "code",
   "execution_count": null,
   "metadata": {},
   "outputs": [],
   "source": [
    "dtheta = np.linspace(-3,3,501); \n",
    "n=np.size(dtheta);\n",
    "\n",
    "theta1=np.zeros((n,n)); \n",
    "theta2=np.zeros((n,n)); \n",
    "for i in range(0,n):\n",
    "    for j in range(0,n): \n",
    "        theta1[i,j]=vtheta_sol[1]+dtheta[i]; \n",
    "        theta2[i,j]=vtheta_sol[2]+dtheta[j];\n"
   ]
  },
  {
   "cell_type": "markdown",
   "metadata": {},
   "source": [
    "d) Assign each point in this field a value of 1 if the point is in the fixed point method and 0 otherwise.\n",
    "Display the basin via contourf."
   ]
  },
  {
   "cell_type": "code",
   "execution_count": null,
   "metadata": {},
   "outputs": [],
   "source": [
    "z=np.zeros((n,n)) \n",
    "for i in range(0,n):\n",
    "    for j in range(0,n): \n",
    "        vtheta0 = [theta1[i,j], theta2[i,j], vtheta_sol[2]]; \n",
    "        vtheta1 = # to fill un pas de Newton\n",
    "        \n",
    "        if # to  define:\n",
    "            z[i,j]=1;\n",
    "        else:\n",
    "            z[i,j]=0\n",
    "\n",
    "contourf(theta1 ,theta2 ,z);"
   ]
  },
  {
   "cell_type": "markdown",
   "metadata": {},
   "source": [
    "## f) Show the basin of Newton's method.\n",
    "\n",
    "You need to get the following graphs (red is the largest value, so 1, and indicates a point in the bassin of attraction)."
   ]
  },
  {
   "cell_type": "code",
   "execution_count": null,
   "metadata": {},
   "outputs": [],
   "source": [
    "z=np.zeros((n,n))\n",
    "for i in range(0,n):\n",
    "    for j in range(0,n):\n",
    "       \n",
    "        vtheta0 = [theta1[i,j], theta2[i,j], vtheta_sol[2]]; \n",
    "        vtheta1 = [theta1[i,j], theta2[i,j], vtheta_sol[2]]; \n",
    "        \n",
    "        eps=1e-12;\n",
    "        nbre =0\n",
    "        while (norm(fvec(h,vtheta1 ,xcible))>eps) and (nbre < 200):\n",
    "            vtheta1 =#to define\n",
    "            nbre = nbre+1\n",
    "        \n",
    "        if #to define:\n",
    "            z[i,j]=1;\n",
    "        else:\n",
    "            z[i,j]=0\n",
    "\n",
    "contourf(theta1 ,theta2 ,z);"
   ]
  }
 ],
 "metadata": {
  "kernelspec": {
   "display_name": "Python 3 (ipykernel)",
   "language": "python",
   "name": "python3"
  },
  "language_info": {
   "codemirror_mode": {
    "name": "ipython",
    "version": 3
   },
   "file_extension": ".py",
   "mimetype": "text/x-python",
   "name": "python",
   "nbconvert_exporter": "python",
   "pygments_lexer": "ipython3",
   "version": "3.11.6"
  }
 },
 "nbformat": 4,
 "nbformat_minor": 4
}
